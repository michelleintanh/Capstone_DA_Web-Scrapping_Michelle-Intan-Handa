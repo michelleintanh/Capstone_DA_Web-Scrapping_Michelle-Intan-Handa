{
 "cells": [
  {
   "cell_type": "markdown",
   "metadata": {},
   "source": [
    "# Capstone Webscrapping using BeautifulSoup\n",
    "\n",
    "This notebook contains guidances & tasks on the data processing for the application\n",
    "\n",
    "## Background\n",
    "\n",
    "In this project we wanted to scrap the daily change of US Dollar (USD) To Indonesian Rupiah (IDR) exchange rate from [EXCHANGE-RATES.org](https://www.exchange-rates.org/exchange-rate-history/usd-idr). EXCHANGE-RATES.org is a website that provides world currency exchange rates and currency exchange rates history.\n",
    "\n",
    "To scrap the daily change of US Dollar (USD) to Indonesian Rupiah (IDR) Exchange Rate, we need to get date and daily price from the EXCHANGE-RATES.org website. Later on, we will also make a visualization plot from the data we have scraped so we could have better understanding of the data.\n",
    "\n",
    "## Requesting the Data and Creating a BeautifulSoup\n",
    "\n",
    "Let's begin with requesting the web from the site with `get` method."
   ]
  },
  {
   "cell_type": "code",
   "execution_count": 1,
   "metadata": {
    "ExecuteTime": {
     "end_time": "2020-01-13T05:12:23.275508Z",
     "start_time": "2020-01-13T05:12:20.009898Z"
    }
   },
   "outputs": [],
   "source": [
    "import pandas as pd\n",
    "import requests\n",
    "\n",
    "url_get = requests.get('https://www.exchange-rates.org/history/IDR/USD/T')"
   ]
  },
  {
   "cell_type": "markdown",
   "metadata": {},
   "source": [
    "To visualize what exactly you get from the `request.get`, we can use `.content` to see what we exactly get, in here i slice it so it won't make our screen full of the html we get from the page."
   ]
  },
  {
   "cell_type": "code",
   "execution_count": 2,
   "metadata": {
    "ExecuteTime": {
     "end_time": "2020-01-13T05:12:23.290648Z",
     "start_time": "2020-01-13T05:12:23.277650Z"
    }
   },
   "outputs": [
    {
     "data": {
      "text/plain": [
       "b'!DOCTYPE html>\\r\\n<!--[if lt IE 9]>\\r\\n<html class=\"no-js ie8 oldie\" lang=\"en\" xml:lang=\\'en\\'>\\r\\n<![endif]-->\\r\\n<!--[if gt IE 8]><!--><html class=\"no-js\" lang=\"en\" xml:lang=\\'en\\'><!--<![endif]-->\\r\\n<head>\\r\\n<title>USD to IDR exchange rate history</title>\\r\\n<meta http-equiv=\"X-UA-Compatible\" content=\"IE=edge\">\\r\\n<meta name=\"viewport\" content=\"width=device-width, initial-scale=1, maximum-scale=5\">\\r\\n<meta charset=\"utf-8\" /><meta http-equiv=\"Content-Type\" content=\"text/html; charset=utf-8\" />\\r\\n<base href=\"http'"
      ]
     },
     "execution_count": 2,
     "metadata": {},
     "output_type": "execute_result"
    }
   ],
   "source": [
    "url_get.content[1:500]"
   ]
  },
  {
   "cell_type": "markdown",
   "metadata": {},
   "source": [
    "As you can see, we get a very unstructured and complex html, which actually contains the codes needed to show the webpages on your web browser. But we as human still confused what and where we can use that piece of code, so here where we use the beautifulsoup. Beautiful soup class will result a beautifulsoup object. Beautiful Soup transforms a complex HTML document into a complex tree of Python objects. \n",
    "\n",
    "Let's make Beautiful soup object and feel free to explore the object here."
   ]
  },
  {
   "cell_type": "code",
   "execution_count": 3,
   "metadata": {
    "ExecuteTime": {
     "end_time": "2020-01-13T05:12:23.808122Z",
     "start_time": "2020-01-13T05:12:23.292610Z"
    }
   },
   "outputs": [
    {
     "name": "stdout",
     "output_type": "stream",
     "text": [
      "<class 'bs4.BeautifulSoup'>\n"
     ]
    }
   ],
   "source": [
    "from bs4 import BeautifulSoup \n",
    "\n",
    "soup = BeautifulSoup(url_get.content,\"html.parser\")\n",
    "print(type(soup))"
   ]
  },
  {
   "cell_type": "markdown",
   "metadata": {},
   "source": [
    "## Finding the right key to scrap the data & Extracting the right information"
   ]
  },
  {
   "cell_type": "markdown",
   "metadata": {},
   "source": [
    "The information that we need are the date and daily price which are contained in the table in the EXCHANGE-RATES.org website."
   ]
  },
  {
   "cell_type": "markdown",
   "metadata": {},
   "source": [
    "![](exchangerates.png)"
   ]
  },
  {
   "cell_type": "markdown",
   "metadata": {},
   "source": [
    "To know which part of the code refer to that table, we can just inspect the table."
   ]
  },
  {
   "cell_type": "markdown",
   "metadata": {},
   "source": [
    "![](inspect2.png)"
   ]
  },
  {
   "cell_type": "markdown",
   "metadata": {},
   "source": [
    "From the inspect element above, we know that we need to find the line table with class `history-rates-data`. We can use the `.find()` key at our beautifulsoup object. Let's also call our object to see what we get."
   ]
  },
  {
   "cell_type": "code",
   "execution_count": 5,
   "metadata": {
    "ExecuteTime": {
     "end_time": "2020-01-13T05:12:23.878904Z",
     "start_time": "2020-01-13T05:12:23.854974Z"
    },
    "scrolled": true
   },
   "outputs": [
    {
     "name": "stdout",
     "output_type": "stream",
     "text": [
      "table border=\"0\" cellpadding=\"0\" cellspacing=\"0\" class=\"history-rates-data\">\n",
      " <thead>\n",
      "  <tr>\n",
      "   <th class=\"ltr-bidi-fix\">\n",
      "    Date\n",
      "   </th>\n",
      "   <th class=\"ltr-bidi-fix\">\n",
      "    US Dollar to Indonesian Rupiah\n",
      "   </th>\n",
      "  </tr>\n",
      " </thead>\n",
      " <tbody>\n",
      "  <tr>\n",
      "   <td>\n",
      "    <a class=\"w\" href=\"/exchange-rate-history/usd-idr-2023-04-11\">\n",
      "     April 11, 2023\n",
      "    </a>\n",
      "    <a class=\"n\" href=\"/exchange-rate-history/usd-idr-2023-04-11\">\n",
      "     2023-4-11\n",
      "    </a>\n",
      "   </td>\n",
      "   <td>\n",
      "    <span class=\"w\">\n",
      "     <span class=\"n\n"
     ]
    }
   ],
   "source": [
    "table = soup.find('table', attrs = {'class':'history-rates-data'})\n",
    "print(table.prettify()[1:500])"
   ]
  },
  {
   "cell_type": "markdown",
   "metadata": {},
   "source": [
    "We already get the necessary key to excract all the data we needed. Now we're going to do some programming to extract all the data automatically using loop. But first, we need to find out the length of our data. We will use `find_all` that always return data in format list and `len()` to check how long is our list."
   ]
  },
  {
   "cell_type": "code",
   "execution_count": 6,
   "metadata": {},
   "outputs": [
    {
     "data": {
      "text/plain": [
       "129"
      ]
     },
     "execution_count": 6,
     "metadata": {},
     "output_type": "execute_result"
    }
   ],
   "source": [
    "row2 = table.find_all('span', attrs={'class':'n'})\n",
    "row_length2 = len(row2)\n",
    "row_length2"
   ]
  },
  {
   "cell_type": "code",
   "execution_count": 7,
   "metadata": {
    "scrolled": true
   },
   "outputs": [
    {
     "data": {
      "text/plain": [
       "129"
      ]
     },
     "execution_count": 7,
     "metadata": {},
     "output_type": "execute_result"
    }
   ],
   "source": [
    "row3 = table.find_all ('a', attrs={'class':'n'})\n",
    "row_length3 = len(row3)\n",
    "row_length3"
   ]
  },
  {
   "cell_type": "markdown",
   "metadata": {},
   "source": [
    "So, the length of our data is 129 rows. Now we will start to extract the data using looping process."
   ]
  },
  {
   "cell_type": "code",
   "execution_count": 8,
   "metadata": {
    "ExecuteTime": {
     "end_time": "2020-01-13T05:12:24.008256Z",
     "start_time": "2020-01-13T05:12:23.980358Z"
    }
   },
   "outputs": [
    {
     "data": {
      "text/plain": [
       "[('2023-4-11', '$1 = Rp14,915'),\n",
       " ('2023-4-10', '$1 = Rp14,950'),\n",
       " ('2023-4-7', '$1 = Rp14,941'),\n",
       " ('2023-4-6', '$1 = Rp14,931'),\n",
       " ('2023-4-5', '$1 = Rp14,960'),\n",
       " ('2023-4-4', '$1 = Rp14,957'),\n",
       " ('2023-4-3', '$1 = Rp14,922'),\n",
       " ('2023-3-31', '$1 = Rp14,969'),\n",
       " ('2023-3-30', '$1 = Rp15,024'),\n",
       " ('2023-3-29', '$1 = Rp15,034'),\n",
       " ('2023-3-28', '$1 = Rp15,060'),\n",
       " ('2023-3-27', '$1 = Rp15,107'),\n",
       " ('2023-3-24', '$1 = Rp15,165'),\n",
       " ('2023-3-23', '$1 = Rp15,085'),\n",
       " ('2023-3-22', '$1 = Rp15,253'),\n",
       " ('2023-3-21', '$1 = Rp15,301'),\n",
       " ('2023-3-20', '$1 = Rp15,343'),\n",
       " ('2023-3-17', '$1 = Rp15,375'),\n",
       " ('2023-3-16', '$1 = Rp15,429'),\n",
       " ('2023-3-15', '$1 = Rp15,459'),\n",
       " ('2023-3-14', '$1 = Rp15,380'),\n",
       " ('2023-3-13', '$1 = Rp15,416'),\n",
       " ('2023-3-10', '$1 = Rp15,503'),\n",
       " ('2023-3-9', '$1 = Rp15,495'),\n",
       " ('2023-3-8', '$1 = Rp15,449'),\n",
       " ('2023-3-7', '$1 = Rp15,429'),\n",
       " ('2023-3-6', '$1 = Rp15,354'),\n",
       " ('2023-3-3', '$1 = Rp15,278'),\n",
       " ('2023-3-2', '$1 = Rp15,322'),\n",
       " ('2023-3-1', '$1 = Rp15,249'),\n",
       " ('2023-2-28', '$1 = Rp15,241'),\n",
       " ('2023-2-27', '$1 = Rp15,216'),\n",
       " ('2023-2-24', '$1 = Rp15,265'),\n",
       " ('2023-2-23', '$1 = Rp15,211'),\n",
       " ('2023-2-22', '$1 = Rp15,197'),\n",
       " ('2023-2-21', '$1 = Rp15,235'),\n",
       " ('2023-2-20', '$1 = Rp15,168'),\n",
       " ('2023-2-17', '$1 = Rp15,166'),\n",
       " ('2023-2-16', '$1 = Rp15,144'),\n",
       " ('2023-2-15', '$1 = Rp15,205'),\n",
       " ('2023-2-14', '$1 = Rp15,186'),\n",
       " ('2023-2-13', '$1 = Rp15,216'),\n",
       " ('2023-2-10', '$1 = Rp15,188'),\n",
       " ('2023-2-9', '$1 = Rp15,147'),\n",
       " ('2023-2-8', '$1 = Rp15,133'),\n",
       " ('2023-2-7', '$1 = Rp15,154'),\n",
       " ('2023-2-6', '$1 = Rp15,198'),\n",
       " ('2023-2-3', '$1 = Rp15,095'),\n",
       " ('2023-2-2', '$1 = Rp14,907'),\n",
       " ('2023-2-1', '$1 = Rp14,896'),\n",
       " ('2023-1-31', '$1 = Rp15,002'),\n",
       " ('2023-1-30', '$1 = Rp15,013'),\n",
       " ('2023-1-27', '$1 = Rp14,973'),\n",
       " ('2023-1-26', '$1 = Rp14,955'),\n",
       " ('2023-1-25', '$1 = Rp14,940'),\n",
       " ('2023-1-24', '$1 = Rp14,956'),\n",
       " ('2023-1-23', '$1 = Rp15,026'),\n",
       " ('2023-1-20', '$1 = Rp15,063'),\n",
       " ('2023-1-19', '$1 = Rp15,154'),\n",
       " ('2023-1-18', '$1 = Rp15,138'),\n",
       " ('2023-1-17', '$1 = Rp15,180'),\n",
       " ('2023-1-16', '$1 = Rp15,126'),\n",
       " ('2023-1-13', '$1 = Rp15,115'),\n",
       " ('2023-1-12', '$1 = Rp15,206'),\n",
       " ('2023-1-11', '$1 = Rp15,432'),\n",
       " ('2023-1-10', '$1 = Rp15,536'),\n",
       " ('2023-1-9', '$1 = Rp15,596'),\n",
       " ('2023-1-6', '$1 = Rp15,607'),\n",
       " ('2023-1-5', '$1 = Rp15,635'),\n",
       " ('2023-1-4', '$1 = Rp15,582'),\n",
       " ('2023-1-3', '$1 = Rp15,594'),\n",
       " ('2023-1-2', '$1 = Rp15,554'),\n",
       " ('2022-12-30', '$1 = Rp15,534'),\n",
       " ('2022-12-29', '$1 = Rp15,627'),\n",
       " ('2022-12-28', '$1 = Rp15,789'),\n",
       " ('2022-12-27', '$1 = Rp15,620'),\n",
       " ('2022-12-26', '$1 = Rp15,621'),\n",
       " ('2022-12-23', '$1 = Rp15,582'),\n",
       " ('2022-12-22', '$1 = Rp15,574'),\n",
       " ('2022-12-21', '$1 = Rp15,540'),\n",
       " ('2022-12-20', '$1 = Rp15,564'),\n",
       " ('2022-12-19', '$1 = Rp15,568'),\n",
       " ('2022-12-16', '$1 = Rp15,616'),\n",
       " ('2022-12-15', '$1 = Rp15,629'),\n",
       " ('2022-12-14', '$1 = Rp15,543'),\n",
       " ('2022-12-13', '$1 = Rp15,560'),\n",
       " ('2022-12-12', '$1 = Rp15,676'),\n",
       " ('2022-12-9', '$1 = Rp15,604'),\n",
       " ('2022-12-8', '$1 = Rp15,594'),\n",
       " ('2022-12-7', '$1 = Rp15,612'),\n",
       " ('2022-12-6', '$1 = Rp15,625'),\n",
       " ('2022-12-5', '$1 = Rp15,520'),\n",
       " ('2022-12-2', '$1 = Rp15,376'),\n",
       " ('2022-12-1', '$1 = Rp15,389'),\n",
       " ('2022-11-30', '$1 = Rp15,633'),\n",
       " ('2022-11-29', '$1 = Rp15,734'),\n",
       " ('2022-11-28', '$1 = Rp15,743'),\n",
       " ('2022-11-25', '$1 = Rp15,693'),\n",
       " ('2022-11-24', '$1 = Rp15,647'),\n",
       " ('2022-11-23', '$1 = Rp15,626'),\n",
       " ('2022-11-22', '$1 = Rp15,664'),\n",
       " ('2022-11-21', '$1 = Rp15,741'),\n",
       " ('2022-11-18', '$1 = Rp15,641'),\n",
       " ('2022-11-17', '$1 = Rp15,714'),\n",
       " ('2022-11-16', '$1 = Rp15,639'),\n",
       " ('2022-11-15', '$1 = Rp15,557'),\n",
       " ('2022-11-14', '$1 = Rp15,554'),\n",
       " ('2022-11-11', '$1 = Rp15,474'),\n",
       " ('2022-11-10', '$1 = Rp15,520'),\n",
       " ('2022-11-9', '$1 = Rp15,692'),\n",
       " ('2022-11-8', '$1 = Rp15,638'),\n",
       " ('2022-11-7', '$1 = Rp15,685'),\n",
       " ('2022-11-4', '$1 = Rp15,615'),\n",
       " ('2022-11-3', '$1 = Rp15,790'),\n",
       " ('2022-11-2', '$1 = Rp15,685'),\n",
       " ('2022-11-1', '$1 = Rp15,674'),\n",
       " ('2022-10-31', '$1 = Rp15,624'),\n",
       " ('2022-10-28', '$1 = Rp15,557'),\n",
       " ('2022-10-27', '$1 = Rp15,560'),\n",
       " ('2022-10-26', '$1 = Rp15,503'),\n",
       " ('2022-10-25', '$1 = Rp15,533'),\n",
       " ('2022-10-24', '$1 = Rp15,598'),\n",
       " ('2022-10-21', '$1 = Rp15,537'),\n",
       " ('2022-10-20', '$1 = Rp15,562'),\n",
       " ('2022-10-19', '$1 = Rp15,587'),\n",
       " ('2022-10-18', '$1 = Rp15,474'),\n",
       " ('2022-10-17', '$1 = Rp15,441'),\n",
       " ('2022-10-14', '$1 = Rp15,472'),\n",
       " ('2022-10-13', '$1 = Rp15,372')]"
      ]
     },
     "execution_count": 8,
     "metadata": {},
     "output_type": "execute_result"
    }
   ],
   "source": [
    "#first we need to make an empty tuple as a placeholder which contains the information that we scrap \n",
    "#we name the empty tuple as temp\n",
    "temp = []\n",
    "\n",
    "#then we make a loop starting from the first data (index 0) to the last data\n",
    "for i in range(0, row_length2):\n",
    "\n",
    "    #get currency data\n",
    "    USD_to_IDR = table.find_all ('span', attrs={'class':'n'})[i].text\n",
    "    \n",
    "    #get period\n",
    "    Date = table.find_all ('a', attrs={'class':'n'})[i].text\n",
    "    \n",
    "    #put the currency and period into the empty tuple\n",
    "    temp.append((Date, USD_to_IDR))\n",
    "    \n",
    "temp "
   ]
  },
  {
   "cell_type": "markdown",
   "metadata": {},
   "source": [
    "The website provides data with the latest to the previous time range. Meanwhile, to perform data analysis, we need data from the previous to the latest time range. therefore, we need to reverse the existing data using `::-1`."
   ]
  },
  {
   "cell_type": "code",
   "execution_count": 9,
   "metadata": {
    "scrolled": false
   },
   "outputs": [
    {
     "data": {
      "text/plain": [
       "[('2022-10-13', '$1 = Rp15,372'),\n",
       " ('2022-10-14', '$1 = Rp15,472'),\n",
       " ('2022-10-17', '$1 = Rp15,441'),\n",
       " ('2022-10-18', '$1 = Rp15,474'),\n",
       " ('2022-10-19', '$1 = Rp15,587'),\n",
       " ('2022-10-20', '$1 = Rp15,562'),\n",
       " ('2022-10-21', '$1 = Rp15,537'),\n",
       " ('2022-10-24', '$1 = Rp15,598'),\n",
       " ('2022-10-25', '$1 = Rp15,533'),\n",
       " ('2022-10-26', '$1 = Rp15,503'),\n",
       " ('2022-10-27', '$1 = Rp15,560'),\n",
       " ('2022-10-28', '$1 = Rp15,557'),\n",
       " ('2022-10-31', '$1 = Rp15,624'),\n",
       " ('2022-11-1', '$1 = Rp15,674'),\n",
       " ('2022-11-2', '$1 = Rp15,685'),\n",
       " ('2022-11-3', '$1 = Rp15,790'),\n",
       " ('2022-11-4', '$1 = Rp15,615'),\n",
       " ('2022-11-7', '$1 = Rp15,685'),\n",
       " ('2022-11-8', '$1 = Rp15,638'),\n",
       " ('2022-11-9', '$1 = Rp15,692'),\n",
       " ('2022-11-10', '$1 = Rp15,520'),\n",
       " ('2022-11-11', '$1 = Rp15,474'),\n",
       " ('2022-11-14', '$1 = Rp15,554'),\n",
       " ('2022-11-15', '$1 = Rp15,557'),\n",
       " ('2022-11-16', '$1 = Rp15,639'),\n",
       " ('2022-11-17', '$1 = Rp15,714'),\n",
       " ('2022-11-18', '$1 = Rp15,641'),\n",
       " ('2022-11-21', '$1 = Rp15,741'),\n",
       " ('2022-11-22', '$1 = Rp15,664'),\n",
       " ('2022-11-23', '$1 = Rp15,626'),\n",
       " ('2022-11-24', '$1 = Rp15,647'),\n",
       " ('2022-11-25', '$1 = Rp15,693'),\n",
       " ('2022-11-28', '$1 = Rp15,743'),\n",
       " ('2022-11-29', '$1 = Rp15,734'),\n",
       " ('2022-11-30', '$1 = Rp15,633'),\n",
       " ('2022-12-1', '$1 = Rp15,389'),\n",
       " ('2022-12-2', '$1 = Rp15,376'),\n",
       " ('2022-12-5', '$1 = Rp15,520'),\n",
       " ('2022-12-6', '$1 = Rp15,625'),\n",
       " ('2022-12-7', '$1 = Rp15,612'),\n",
       " ('2022-12-8', '$1 = Rp15,594'),\n",
       " ('2022-12-9', '$1 = Rp15,604'),\n",
       " ('2022-12-12', '$1 = Rp15,676'),\n",
       " ('2022-12-13', '$1 = Rp15,560'),\n",
       " ('2022-12-14', '$1 = Rp15,543'),\n",
       " ('2022-12-15', '$1 = Rp15,629'),\n",
       " ('2022-12-16', '$1 = Rp15,616'),\n",
       " ('2022-12-19', '$1 = Rp15,568'),\n",
       " ('2022-12-20', '$1 = Rp15,564'),\n",
       " ('2022-12-21', '$1 = Rp15,540'),\n",
       " ('2022-12-22', '$1 = Rp15,574'),\n",
       " ('2022-12-23', '$1 = Rp15,582'),\n",
       " ('2022-12-26', '$1 = Rp15,621'),\n",
       " ('2022-12-27', '$1 = Rp15,620'),\n",
       " ('2022-12-28', '$1 = Rp15,789'),\n",
       " ('2022-12-29', '$1 = Rp15,627'),\n",
       " ('2022-12-30', '$1 = Rp15,534'),\n",
       " ('2023-1-2', '$1 = Rp15,554'),\n",
       " ('2023-1-3', '$1 = Rp15,594'),\n",
       " ('2023-1-4', '$1 = Rp15,582'),\n",
       " ('2023-1-5', '$1 = Rp15,635'),\n",
       " ('2023-1-6', '$1 = Rp15,607'),\n",
       " ('2023-1-9', '$1 = Rp15,596'),\n",
       " ('2023-1-10', '$1 = Rp15,536'),\n",
       " ('2023-1-11', '$1 = Rp15,432'),\n",
       " ('2023-1-12', '$1 = Rp15,206'),\n",
       " ('2023-1-13', '$1 = Rp15,115'),\n",
       " ('2023-1-16', '$1 = Rp15,126'),\n",
       " ('2023-1-17', '$1 = Rp15,180'),\n",
       " ('2023-1-18', '$1 = Rp15,138'),\n",
       " ('2023-1-19', '$1 = Rp15,154'),\n",
       " ('2023-1-20', '$1 = Rp15,063'),\n",
       " ('2023-1-23', '$1 = Rp15,026'),\n",
       " ('2023-1-24', '$1 = Rp14,956'),\n",
       " ('2023-1-25', '$1 = Rp14,940'),\n",
       " ('2023-1-26', '$1 = Rp14,955'),\n",
       " ('2023-1-27', '$1 = Rp14,973'),\n",
       " ('2023-1-30', '$1 = Rp15,013'),\n",
       " ('2023-1-31', '$1 = Rp15,002'),\n",
       " ('2023-2-1', '$1 = Rp14,896'),\n",
       " ('2023-2-2', '$1 = Rp14,907'),\n",
       " ('2023-2-3', '$1 = Rp15,095'),\n",
       " ('2023-2-6', '$1 = Rp15,198'),\n",
       " ('2023-2-7', '$1 = Rp15,154'),\n",
       " ('2023-2-8', '$1 = Rp15,133'),\n",
       " ('2023-2-9', '$1 = Rp15,147'),\n",
       " ('2023-2-10', '$1 = Rp15,188'),\n",
       " ('2023-2-13', '$1 = Rp15,216'),\n",
       " ('2023-2-14', '$1 = Rp15,186'),\n",
       " ('2023-2-15', '$1 = Rp15,205'),\n",
       " ('2023-2-16', '$1 = Rp15,144'),\n",
       " ('2023-2-17', '$1 = Rp15,166'),\n",
       " ('2023-2-20', '$1 = Rp15,168'),\n",
       " ('2023-2-21', '$1 = Rp15,235'),\n",
       " ('2023-2-22', '$1 = Rp15,197'),\n",
       " ('2023-2-23', '$1 = Rp15,211'),\n",
       " ('2023-2-24', '$1 = Rp15,265'),\n",
       " ('2023-2-27', '$1 = Rp15,216'),\n",
       " ('2023-2-28', '$1 = Rp15,241'),\n",
       " ('2023-3-1', '$1 = Rp15,249'),\n",
       " ('2023-3-2', '$1 = Rp15,322'),\n",
       " ('2023-3-3', '$1 = Rp15,278'),\n",
       " ('2023-3-6', '$1 = Rp15,354'),\n",
       " ('2023-3-7', '$1 = Rp15,429'),\n",
       " ('2023-3-8', '$1 = Rp15,449'),\n",
       " ('2023-3-9', '$1 = Rp15,495'),\n",
       " ('2023-3-10', '$1 = Rp15,503'),\n",
       " ('2023-3-13', '$1 = Rp15,416'),\n",
       " ('2023-3-14', '$1 = Rp15,380'),\n",
       " ('2023-3-15', '$1 = Rp15,459'),\n",
       " ('2023-3-16', '$1 = Rp15,429'),\n",
       " ('2023-3-17', '$1 = Rp15,375'),\n",
       " ('2023-3-20', '$1 = Rp15,343'),\n",
       " ('2023-3-21', '$1 = Rp15,301'),\n",
       " ('2023-3-22', '$1 = Rp15,253'),\n",
       " ('2023-3-23', '$1 = Rp15,085'),\n",
       " ('2023-3-24', '$1 = Rp15,165'),\n",
       " ('2023-3-27', '$1 = Rp15,107'),\n",
       " ('2023-3-28', '$1 = Rp15,060'),\n",
       " ('2023-3-29', '$1 = Rp15,034'),\n",
       " ('2023-3-30', '$1 = Rp15,024'),\n",
       " ('2023-3-31', '$1 = Rp14,969'),\n",
       " ('2023-4-3', '$1 = Rp14,922'),\n",
       " ('2023-4-4', '$1 = Rp14,957'),\n",
       " ('2023-4-5', '$1 = Rp14,960'),\n",
       " ('2023-4-6', '$1 = Rp14,931'),\n",
       " ('2023-4-7', '$1 = Rp14,941'),\n",
       " ('2023-4-10', '$1 = Rp14,950'),\n",
       " ('2023-4-11', '$1 = Rp14,915')]"
      ]
     },
     "execution_count": 9,
     "metadata": {},
     "output_type": "execute_result"
    }
   ],
   "source": [
    "temp = temp [::-1]\n",
    "temp"
   ]
  },
  {
   "cell_type": "markdown",
   "metadata": {},
   "source": [
    "## Creating data frame & Data wrangling"
   ]
  },
  {
   "cell_type": "markdown",
   "metadata": {},
   "source": [
    "After we fix our list, we will put the list into dataframe."
   ]
  },
  {
   "cell_type": "code",
   "execution_count": 10,
   "metadata": {
    "ExecuteTime": {
     "end_time": "2020-01-13T05:12:41.517372Z",
     "start_time": "2020-01-13T05:12:29.130015Z"
    }
   },
   "outputs": [
    {
     "data": {
      "text/html": [
       "<div>\n",
       "<style scoped>\n",
       "    .dataframe tbody tr th:only-of-type {\n",
       "        vertical-align: middle;\n",
       "    }\n",
       "\n",
       "    .dataframe tbody tr th {\n",
       "        vertical-align: top;\n",
       "    }\n",
       "\n",
       "    .dataframe thead th {\n",
       "        text-align: right;\n",
       "    }\n",
       "</style>\n",
       "<table border=\"1\" class=\"dataframe\">\n",
       "  <thead>\n",
       "    <tr style=\"text-align: right;\">\n",
       "      <th></th>\n",
       "      <th>Date</th>\n",
       "      <th>USD_to_IDR</th>\n",
       "    </tr>\n",
       "  </thead>\n",
       "  <tbody>\n",
       "    <tr>\n",
       "      <th>0</th>\n",
       "      <td>2022-10-13</td>\n",
       "      <td>$1 = Rp15,372</td>\n",
       "    </tr>\n",
       "    <tr>\n",
       "      <th>1</th>\n",
       "      <td>2022-10-14</td>\n",
       "      <td>$1 = Rp15,472</td>\n",
       "    </tr>\n",
       "    <tr>\n",
       "      <th>2</th>\n",
       "      <td>2022-10-17</td>\n",
       "      <td>$1 = Rp15,441</td>\n",
       "    </tr>\n",
       "    <tr>\n",
       "      <th>3</th>\n",
       "      <td>2022-10-18</td>\n",
       "      <td>$1 = Rp15,474</td>\n",
       "    </tr>\n",
       "    <tr>\n",
       "      <th>4</th>\n",
       "      <td>2022-10-19</td>\n",
       "      <td>$1 = Rp15,587</td>\n",
       "    </tr>\n",
       "  </tbody>\n",
       "</table>\n",
       "</div>"
      ],
      "text/plain": [
       "         Date     USD_to_IDR\n",
       "0  2022-10-13  $1 = Rp15,372\n",
       "1  2022-10-14  $1 = Rp15,472\n",
       "2  2022-10-17  $1 = Rp15,441\n",
       "3  2022-10-18  $1 = Rp15,474\n",
       "4  2022-10-19  $1 = Rp15,587"
      ]
     },
     "execution_count": 10,
     "metadata": {},
     "output_type": "execute_result"
    }
   ],
   "source": [
    "import pandas as pd\n",
    "\n",
    "df = pd.DataFrame(temp, columns = ('Date', 'USD_to_IDR'))\n",
    "df.head()"
   ]
  },
  {
   "cell_type": "markdown",
   "metadata": {},
   "source": [
    "Before we start our wrangling process, we need to check our data types and make sure it is suitable for further process."
   ]
  },
  {
   "cell_type": "code",
   "execution_count": 11,
   "metadata": {
    "ExecuteTime": {
     "end_time": "2020-01-13T05:12:59.165559Z",
     "start_time": "2020-01-13T05:12:58.910012Z"
    },
    "scrolled": true
   },
   "outputs": [
    {
     "data": {
      "text/plain": [
       "Date          object\n",
       "USD_to_IDR    object\n",
       "dtype: object"
      ]
     },
     "execution_count": 11,
     "metadata": {},
     "output_type": "execute_result"
    }
   ],
   "source": [
    "df.dtypes"
   ]
  },
  {
   "cell_type": "markdown",
   "metadata": {},
   "source": [
    "We need to change `Date` into `datetime64` and `USD_to_IDR` into `float64`. But before we change the data types, we need to remove all symbol elements from `USD_to_IDR`."
   ]
  },
  {
   "cell_type": "code",
   "execution_count": 12,
   "metadata": {},
   "outputs": [
    {
     "name": "stderr",
     "output_type": "stream",
     "text": [
      "C:\\Users\\User\\AppData\\Local\\Temp\\ipykernel_15236\\1676979547.py:1: FutureWarning: The default value of regex will change from True to False in a future version. In addition, single character regular expressions will *not* be treated as literal strings when regex=True.\n",
      "  df['USD_to_IDR'] = df['USD_to_IDR'].str.replace ('$',\"\")\n"
     ]
    },
    {
     "data": {
      "text/html": [
       "<div>\n",
       "<style scoped>\n",
       "    .dataframe tbody tr th:only-of-type {\n",
       "        vertical-align: middle;\n",
       "    }\n",
       "\n",
       "    .dataframe tbody tr th {\n",
       "        vertical-align: top;\n",
       "    }\n",
       "\n",
       "    .dataframe thead th {\n",
       "        text-align: right;\n",
       "    }\n",
       "</style>\n",
       "<table border=\"1\" class=\"dataframe\">\n",
       "  <thead>\n",
       "    <tr style=\"text-align: right;\">\n",
       "      <th></th>\n",
       "      <th>Date</th>\n",
       "      <th>USD_to_IDR</th>\n",
       "    </tr>\n",
       "  </thead>\n",
       "  <tbody>\n",
       "    <tr>\n",
       "      <th>0</th>\n",
       "      <td>2022-10-13</td>\n",
       "      <td>15,372</td>\n",
       "    </tr>\n",
       "    <tr>\n",
       "      <th>1</th>\n",
       "      <td>2022-10-14</td>\n",
       "      <td>15,472</td>\n",
       "    </tr>\n",
       "    <tr>\n",
       "      <th>2</th>\n",
       "      <td>2022-10-17</td>\n",
       "      <td>15,441</td>\n",
       "    </tr>\n",
       "    <tr>\n",
       "      <th>3</th>\n",
       "      <td>2022-10-18</td>\n",
       "      <td>15,474</td>\n",
       "    </tr>\n",
       "    <tr>\n",
       "      <th>4</th>\n",
       "      <td>2022-10-19</td>\n",
       "      <td>15,587</td>\n",
       "    </tr>\n",
       "    <tr>\n",
       "      <th>...</th>\n",
       "      <td>...</td>\n",
       "      <td>...</td>\n",
       "    </tr>\n",
       "    <tr>\n",
       "      <th>124</th>\n",
       "      <td>2023-4-5</td>\n",
       "      <td>14,960</td>\n",
       "    </tr>\n",
       "    <tr>\n",
       "      <th>125</th>\n",
       "      <td>2023-4-6</td>\n",
       "      <td>14,931</td>\n",
       "    </tr>\n",
       "    <tr>\n",
       "      <th>126</th>\n",
       "      <td>2023-4-7</td>\n",
       "      <td>14,941</td>\n",
       "    </tr>\n",
       "    <tr>\n",
       "      <th>127</th>\n",
       "      <td>2023-4-10</td>\n",
       "      <td>14,950</td>\n",
       "    </tr>\n",
       "    <tr>\n",
       "      <th>128</th>\n",
       "      <td>2023-4-11</td>\n",
       "      <td>14,915</td>\n",
       "    </tr>\n",
       "  </tbody>\n",
       "</table>\n",
       "<p>129 rows × 2 columns</p>\n",
       "</div>"
      ],
      "text/plain": [
       "           Date USD_to_IDR\n",
       "0    2022-10-13     15,372\n",
       "1    2022-10-14     15,472\n",
       "2    2022-10-17     15,441\n",
       "3    2022-10-18     15,474\n",
       "4    2022-10-19     15,587\n",
       "..          ...        ...\n",
       "124    2023-4-5     14,960\n",
       "125    2023-4-6     14,931\n",
       "126    2023-4-7     14,941\n",
       "127   2023-4-10     14,950\n",
       "128   2023-4-11     14,915\n",
       "\n",
       "[129 rows x 2 columns]"
      ]
     },
     "execution_count": 12,
     "metadata": {},
     "output_type": "execute_result"
    }
   ],
   "source": [
    "df['USD_to_IDR'] = df['USD_to_IDR'].str.replace ('$',\"\")\n",
    "df['USD_to_IDR'] = df['USD_to_IDR'].str.replace ('=', '')\n",
    "df['USD_to_IDR'] = df['USD_to_IDR'].str.replace ('Rp', '')\n",
    "df['USD_to_IDR'] = df['USD_to_IDR'].str.replace(\"1\", \"\", 1)\n",
    "df"
   ]
  },
  {
   "cell_type": "code",
   "execution_count": 13,
   "metadata": {},
   "outputs": [
    {
     "data": {
      "text/html": [
       "<div>\n",
       "<style scoped>\n",
       "    .dataframe tbody tr th:only-of-type {\n",
       "        vertical-align: middle;\n",
       "    }\n",
       "\n",
       "    .dataframe tbody tr th {\n",
       "        vertical-align: top;\n",
       "    }\n",
       "\n",
       "    .dataframe thead th {\n",
       "        text-align: right;\n",
       "    }\n",
       "</style>\n",
       "<table border=\"1\" class=\"dataframe\">\n",
       "  <thead>\n",
       "    <tr style=\"text-align: right;\">\n",
       "      <th></th>\n",
       "      <th>Date</th>\n",
       "      <th>USD_to_IDR</th>\n",
       "    </tr>\n",
       "  </thead>\n",
       "  <tbody>\n",
       "    <tr>\n",
       "      <th>0</th>\n",
       "      <td>2022-10-13</td>\n",
       "      <td>15.372</td>\n",
       "    </tr>\n",
       "    <tr>\n",
       "      <th>1</th>\n",
       "      <td>2022-10-14</td>\n",
       "      <td>15.472</td>\n",
       "    </tr>\n",
       "    <tr>\n",
       "      <th>2</th>\n",
       "      <td>2022-10-17</td>\n",
       "      <td>15.441</td>\n",
       "    </tr>\n",
       "    <tr>\n",
       "      <th>3</th>\n",
       "      <td>2022-10-18</td>\n",
       "      <td>15.474</td>\n",
       "    </tr>\n",
       "    <tr>\n",
       "      <th>4</th>\n",
       "      <td>2022-10-19</td>\n",
       "      <td>15.587</td>\n",
       "    </tr>\n",
       "    <tr>\n",
       "      <th>...</th>\n",
       "      <td>...</td>\n",
       "      <td>...</td>\n",
       "    </tr>\n",
       "    <tr>\n",
       "      <th>124</th>\n",
       "      <td>2023-04-05</td>\n",
       "      <td>14.960</td>\n",
       "    </tr>\n",
       "    <tr>\n",
       "      <th>125</th>\n",
       "      <td>2023-04-06</td>\n",
       "      <td>14.931</td>\n",
       "    </tr>\n",
       "    <tr>\n",
       "      <th>126</th>\n",
       "      <td>2023-04-07</td>\n",
       "      <td>14.941</td>\n",
       "    </tr>\n",
       "    <tr>\n",
       "      <th>127</th>\n",
       "      <td>2023-04-10</td>\n",
       "      <td>14.950</td>\n",
       "    </tr>\n",
       "    <tr>\n",
       "      <th>128</th>\n",
       "      <td>2023-04-11</td>\n",
       "      <td>14.915</td>\n",
       "    </tr>\n",
       "  </tbody>\n",
       "</table>\n",
       "<p>129 rows × 2 columns</p>\n",
       "</div>"
      ],
      "text/plain": [
       "          Date  USD_to_IDR\n",
       "0   2022-10-13      15.372\n",
       "1   2022-10-14      15.472\n",
       "2   2022-10-17      15.441\n",
       "3   2022-10-18      15.474\n",
       "4   2022-10-19      15.587\n",
       "..         ...         ...\n",
       "124 2023-04-05      14.960\n",
       "125 2023-04-06      14.931\n",
       "126 2023-04-07      14.941\n",
       "127 2023-04-10      14.950\n",
       "128 2023-04-11      14.915\n",
       "\n",
       "[129 rows x 2 columns]"
      ]
     },
     "execution_count": 13,
     "metadata": {},
     "output_type": "execute_result"
    }
   ],
   "source": [
    "df['Date'] = df['Date'].astype('datetime64')\n",
    "df['USD_to_IDR'] = df['USD_to_IDR'].str.replace(\",\",\".\")\n",
    "df['USD_to_IDR'] = df['USD_to_IDR'].astype('float64')\n",
    "df"
   ]
  },
  {
   "cell_type": "code",
   "execution_count": 14,
   "metadata": {
    "scrolled": true
   },
   "outputs": [
    {
     "data": {
      "text/plain": [
       "Date          datetime64[ns]\n",
       "USD_to_IDR           float64\n",
       "dtype: object"
      ]
     },
     "execution_count": 14,
     "metadata": {},
     "output_type": "execute_result"
    }
   ],
   "source": [
    "df.dtypes"
   ]
  },
  {
   "cell_type": "markdown",
   "metadata": {},
   "source": [
    "All data types has been adjusted. Now is the time to make visualization of our data."
   ]
  },
  {
   "cell_type": "markdown",
   "metadata": {},
   "source": [
    "To make our plot behave like what we want, we need to set our index of our dataframe to our time column. We can use set_index()"
   ]
  },
  {
   "cell_type": "code",
   "execution_count": 15,
   "metadata": {},
   "outputs": [],
   "source": [
    "df = df.set_index('Date')"
   ]
  },
  {
   "cell_type": "markdown",
   "metadata": {},
   "source": [
    "Finally, we can do our simple visualisation to put the cherry on top."
   ]
  },
  {
   "cell_type": "code",
   "execution_count": 16,
   "metadata": {
    "scrolled": true
   },
   "outputs": [
    {
     "data": {
      "text/plain": [
       "<AxesSubplot:xlabel='Date'>"
      ]
     },
     "execution_count": 16,
     "metadata": {},
     "output_type": "execute_result"
    },
    {
     "data": {
      "image/png": "[encoded data removed]",
      "text/plain": [
       "<Figure size 432x288 with 1 Axes>"
      ]
     },
     "metadata": {
      "needs_background": "light"
     },
     "output_type": "display_data"
    }
   ],
   "source": [
    "df.plot()"
   ]
  },
  {
   "cell_type": "markdown",
   "metadata": {},
   "source": [
    "### Implementing your webscrapping to the flask dashboard\n",
    "\n",
    "- Copy paste all of your web scrapping process to the desired position on the `app.py`\n",
    "- Changing the title of the dasboard at `index.html`"
   ]
  },
  {
   "cell_type": "markdown",
   "metadata": {},
   "source": [
    "## Finishing This Notebook with Your Analysis and Conclusion\n",
    "\n",
    "The visualization plot above is not yet complete. We could add the title of the plot, x-axis and y-axis."
   ]
  },
  {
   "cell_type": "code",
   "execution_count": 17,
   "metadata": {},
   "outputs": [
    {
     "data": {
      "image/png": "[encoded data removed]",
      "text/plain": [
       "<Figure size 432x288 with 1 Axes>"
      ]
     },
     "metadata": {
      "needs_background": "light"
     },
     "output_type": "display_data"
    }
   ],
   "source": [
    "import matplotlib.pyplot as plt\n",
    "from matplotlib.ticker import StrMethodFormatter\n",
    "\n",
    "df.plot(\n",
    "title = 'USD to IDR Exchange Rate History',\n",
    "xlabel = 'Month',\n",
    "ylabel = 'USD to IDR Exchange Price',)\n",
    "\n",
    "plt.gca().yaxis.set_major_formatter(StrMethodFormatter('{x:,.3f}')) # 3 decimal places"
   ]
  },
  {
   "cell_type": "markdown",
   "metadata": {},
   "source": [
    "Now that the visualization plot has been finished, we could conclude that the USD to IDR exchange rate has a stable price in November 2022 to early January 2023. The USD to IDR exchange rate also reached its highest price in November 2022 and January 2023. However in January 2023, the USD to IDR exchange rate dropped drastically until February 2023 which resulted in the USD to IDR exchange rate reaching the lowest price in February 2023. After that, the price of the USD to IDR exchange rate increased and again reached its lowest point again in April 2023."
   ]
  },
  {
   "cell_type": "markdown",
   "metadata": {},
   "source": [
    "The instability of the USD to IDR exchange rate, especially on January 2023 was most likely caused by the inflation that hit America. The inflation rate on January 2023 in America reached 6.4%. This high inflation rate could influence the exchange rate of USD to IDR."
   ]
  },
  {
   "cell_type": "markdown",
   "metadata": {},
   "source": [
    "### Implement it at the webapps\n",
    "\n",
    "- You can create additional analysis from the data.\n",
    "- Implement it to the dashboard with at `app.py` dan `index.html`."
   ]
  }
 ],
 "metadata": {
  "kernelspec": {
   "display_name": "capstone_vulcan",
   "language": "python",
   "name": "capstone_vulcan"
  },
  "language_info": {
   "codemirror_mode": {
    "name": "ipython",
    "version": 3
   },
   "file_extension": ".py",
   "mimetype": "text/x-python",
   "name": "python",
   "nbconvert_exporter": "python",
   "pygments_lexer": "ipython3",
   "version": "3.9.12"
  }
 },
 "nbformat": 4,
 "nbformat_minor": 2
}
